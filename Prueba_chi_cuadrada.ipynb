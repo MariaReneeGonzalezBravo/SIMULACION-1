{
  "nbformat": 4,
  "nbformat_minor": 0,
  "metadata": {
    "colab": {
      "provenance": [],
      "authorship_tag": "ABX9TyMn2wOi8UsYptLUC9nS2H5k",
      "include_colab_link": true
    },
    "kernelspec": {
      "name": "python3",
      "display_name": "Python 3"
    },
    "language_info": {
      "name": "python"
    }
  },
  "cells": [
    {
      "cell_type": "markdown",
      "metadata": {
        "id": "view-in-github",
        "colab_type": "text"
      },
      "source": [
        "<a href=\"https://colab.research.google.com/github/MariaReneeGonzalezBravo/SIMULACION-1/blob/main/Prueba_chi_cuadrada.ipynb\" target=\"_parent\"><img src=\"https://colab.research.google.com/assets/colab-badge.svg\" alt=\"Open In Colab\"/></a>"
      ]
    },
    {
      "cell_type": "code",
      "execution_count": 1,
      "metadata": {
        "id": "hy39EuZh3Uln"
      },
      "outputs": [],
      "source": [
        "#Maria Renee Gonzalez Bravo\n",
        "#7mm1\n",
        "#Prueba- chi cuadrada\n",
        "\n",
        "import numpy as np\n",
        "#llenado de clases- para la prueba chi cuadrada es necesario contar por lo menos con 5 clases\n",
        "def clases(datos):\n",
        "    datos1 = []\n",
        "    datos2 = []\n",
        "    datos3 = []\n",
        "    datos4 = []\n",
        "    datos5 = []\n",
        "    indices = np.arange(50) # en este caso el numero de datos que tenemos es 50\n",
        "    for i in indices:\n",
        "        if 0 <= datos[i] <= 0.2: # se crean los intervalos para cada clase\n",
        "            datos1.append(datos[i])\n",
        "        if 0.2 < datos[i] <= 0.4:\n",
        "            datos2.append(datos[i])\n",
        "        if 0.4 < datos[i] <= 0.6:\n",
        "            datos3.append(datos[i])\n",
        "        if 0.6 < datos[i] <= 0.8:\n",
        "            datos4.append(datos[i])\n",
        "        if 0.8 < datos[i] <= 1:\n",
        "            datos5.append(datos[i])\n",
        "    clasesx = [datos1,datos2,datos3,datos4,datos5]\n",
        "    return clasesx\n"
      ]
    },
    {
      "cell_type": "code",
      "source": [
        "#prueba chi cuadrada\n",
        "def prueba(N,n,clasesx):\n",
        "    freesp = N/n\n",
        "    freobs = np.zeros(n)\n",
        "    indices1 = np.arange(5)\n",
        "    for i in indices1:\n",
        "        freobs[i] = len(clasesx[i])\n",
        "    chicuadrada = 0\n",
        "    indices = np.arange(n)\n",
        "    for i in indices:\n",
        "        chicuadrada = chicuadrada + ((freobs[i] - freesp)**2/freesp)\n",
        "    return chicuadrada"
      ],
      "metadata": {
        "id": "eDzkKs-M3ojU"
      },
      "execution_count": 2,
      "outputs": []
    },
    {
      "cell_type": "code",
      "source": [
        "#Programa principal\n",
        "datos = [0.8797, 0.9848, 0.4557, 0.9170, 0.8376, 0.3884, 0.3469, 0.1592, 0.2204, 0.6235, 0.6289, 0.7977, 0.8536, 0.5991, 0.3681, 0.8750, 0.5844, 0.8846, 0.5461, 0.2088, 0.5999, 0.8147, 0.3410, 0.5739, 0.1525, 0.8589, 0.6431, 0.1492, 0.3254, 0.2006, 0.9996, 0.7387, 0.8681, 0.0856, 0.4720, 0.2415, 0.5613, 0.5291, 0.2258, 0.4272, 0.3808, 0.0318, 0.3188, 0.4603, 0.6360, 0.9606, 0.7401, 0.5992, 0.5027, 0.0954]\n",
        "datos = np.array(datos)\n",
        "clasesx = clases(datos)\n",
        "N = len(datos)\n",
        "n = len(clasesx)\n",
        "chicuadrada = prueba(N,n,clasesx)\n",
        "valcrit = 9.48 #valor obtenido en la tabla\n",
        "print(\"El valor de chi cuadrada es: \",chicuadrada)\n",
        "print (\"El valor critico es: \",valcrit)\n",
        "if chicuadrada <= valcrit:\n",
        "    print(\"Por lo tanto, no se rechaza la hipotesis nula. \")\n",
        "else:\n",
        "    print(\"Por lo tanto, se rechaza la hipotesis nula.\")"
      ],
      "metadata": {
        "colab": {
          "base_uri": "https://localhost:8080/"
        },
        "id": "0MOFbNXg3pHz",
        "outputId": "8ee61e41-6ebc-48dd-a1a5-a1c9b312b19c"
      },
      "execution_count": 3,
      "outputs": [
        {
          "output_type": "stream",
          "name": "stdout",
          "text": [
            "El valor de chi cuadrada es:  4.2\n",
            "El valor critico es:  9.48\n",
            "Por lo tanto, no se rechaza la hipotesis nula. \n"
          ]
        }
      ]
    }
  ]
}