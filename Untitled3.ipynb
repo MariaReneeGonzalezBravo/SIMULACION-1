{
  "nbformat": 4,
  "nbformat_minor": 0,
  "metadata": {
    "colab": {
      "provenance": [],
      "authorship_tag": "ABX9TyPcxr9iC9ffZUYTKfSKUpRV",
      "include_colab_link": true
    },
    "kernelspec": {
      "name": "python3",
      "display_name": "Python 3"
    },
    "language_info": {
      "name": "python"
    }
  },
  "cells": [
    {
      "cell_type": "markdown",
      "metadata": {
        "id": "view-in-github",
        "colab_type": "text"
      },
      "source": [
        "<a href=\"https://colab.research.google.com/github/MariaReneeGonzalezBravo/SIMULACION-1/blob/main/Untitled3.ipynb\" target=\"_parent\"><img src=\"https://colab.research.google.com/assets/colab-badge.svg\" alt=\"Open In Colab\"/></a>"
      ]
    },
    {
      "cell_type": "code",
      "execution_count": 46,
      "metadata": {
        "id": "bWaZWlrv2Rn3"
      },
      "outputs": [],
      "source": [
        "from os import listxattr\n",
        "#Numeros Aleatorios- Métodos de generación\n",
        "#Cuadrado medio\n",
        "def numa(x):\n",
        "  c=x**2\n",
        "  n = (len(str(c)))\n",
        "  if n % 8 == 0:\n",
        "    l=list(str(c))\n",
        "    l1=l[2:6]\n",
        "    cad=\"\".join(map(str,l1))\n",
        "    ent=int(cad)\n",
        "  else:\n",
        "    l=list(str(c))\n",
        "    l.insert(0, 0)\n",
        "    l1=l[2:6]\n",
        "    cad=\"\".join(map(str,l1))\n",
        "    ent=int(cad)\n",
        "  return ent"
      ]
    },
    {
      "cell_type": "code",
      "source": [
        "numa(5113)"
      ],
      "metadata": {
        "colab": {
          "base_uri": "https://localhost:8080/"
        },
        "id": "xC5Dmmln9lCw",
        "outputId": "784818c6-ba32-49fc-b3e4-c5df8cb72711"
      },
      "execution_count": 47,
      "outputs": [
        {
          "output_type": "execute_result",
          "data": {
            "text/plain": [
              "1427"
            ]
          },
          "metadata": {},
          "execution_count": 47
        }
      ]
    },
    {
      "cell_type": "code",
      "source": [
        "numa(2124)"
      ],
      "metadata": {
        "colab": {
          "base_uri": "https://localhost:8080/"
        },
        "id": "cze4TCI3_2PN",
        "outputId": "caa29d92-6deb-4c2c-fe75-d212cd2b959d"
      },
      "execution_count": 48,
      "outputs": [
        {
          "output_type": "execute_result",
          "data": {
            "text/plain": [
              "5113"
            ]
          },
          "metadata": {},
          "execution_count": 48
        }
      ]
    },
    {
      "cell_type": "code",
      "source": [
        "#EXPLICACIÓN DETALLADA\n",
        "from os import listxattr\n",
        "#Numeros Aleatorios- Métodos de generación\n",
        "#Cuadrado medio\n",
        "\n",
        "def numa(x): # Paso 1: Definimos un numero de 4 cifras - NUMERO SEMILLA Xₒ\n",
        "  c=x**2 # Paso 2: lo elevamos al cuadrado - Xₒ**2\n",
        "  n = (len(str(c))) # Paso 3: Medimos la longitud del numero, si el num. elevado al cuadrado es de 7 cifras hay que agregarle un 0 al principio\n",
        "  if n % 8 == 0: # si el numero es de 8 cifras desde un principio (i.e es divisible entre 8 es par) debemos elegir los 4 numeros de en medio para generar un numero aleatorio\n",
        "    l=list(str(c)) #Creamos una lista donde convertimos a cadena cada elemento de Xₒ**2\n",
        "    l1=l[2:6] #Aqui hacemos una 'sublista' donde seleccionamos solo los 4 digitos que queremos de la lista, de la posición 2 a la 5 pero contamos hasta la 6 por que en este comando el último num. no se agrega\n",
        "    cad=\"\".join(map(str,l1)) #comando para convertir elementos de una lista a cadena donde \"\" no separa a estos, si pusieramos \":\" se agregarian como 2:3:4\n",
        "    ent=int(cad) # al regresar este valor buscado se regresara como una tipo cadena ya que los elementos de esta lista eran enteros apareciendo como '234', para que lo regrese como num. lo convertimos con int\n",
        "  else: # en caso contrario - i.e en caso de que el num. tenga 7 cifras y tengamos que agregar el 0\n",
        "    l=list(str(c)) # volvemos a crear nuestra lista\n",
        "    l.insert(0, 0) #comando para agregar un elemento a la lista (posicion, num. a agregar)\n",
        "    l1=l[2:6] # volvemos a crear la 'sublista'\n",
        "    cad=\"\".join(map(str,l1)) # hacemos cadena a la lista\n",
        "    ent=int(cad) # la cadena la convertimos a entero\n",
        "\n",
        "\n",
        "  return ent # valor que regresara cuando se llame a la función"
      ],
      "metadata": {
        "id": "Kb1IRZ0y5WvC"
      },
      "execution_count": 45,
      "outputs": []
    },
    {
      "cell_type": "code",
      "source": [
        "int_list = [13, 56, 5, 78, 100]\n",
        "\n",
        "int_list.insert(2,0)\n",
        "\n",
        "print(int_list)"
      ],
      "metadata": {
        "colab": {
          "base_uri": "https://localhost:8080/"
        },
        "id": "GBfSWUvVT8Bt",
        "outputId": "911c532e-299e-4b98-c290-c8f97057d602"
      },
      "execution_count": 26,
      "outputs": [
        {
          "output_type": "stream",
          "name": "stdout",
          "text": [
            "[13, 56, 0, 5, 78, 100]\n"
          ]
        }
      ]
    },
    {
      "cell_type": "code",
      "source": [
        "a=[1,2]\n",
        "\"\".join(map(str,a))"
      ],
      "metadata": {
        "colab": {
          "base_uri": "https://localhost:8080/",
          "height": 35
        },
        "id": "71L_tQFfPEoo",
        "outputId": "0ae3c2f6-a4bf-43be-cb8d-2ccb36f24b84"
      },
      "execution_count": 93,
      "outputs": [
        {
          "output_type": "execute_result",
          "data": {
            "text/plain": [
              "'12'"
            ],
            "application/vnd.google.colaboratory.intrinsic+json": {
              "type": "string"
            }
          },
          "metadata": {},
          "execution_count": 93
        }
      ]
    },
    {
      "cell_type": "code",
      "source": [
        "print(\":\".join([\"freeCodeCamp\", \"es\", \"divertido\"]))\n"
      ],
      "metadata": {
        "colab": {
          "base_uri": "https://localhost:8080/"
        },
        "id": "mHu83NAhOulJ",
        "outputId": "94902a61-83d3-41b3-b82d-893fd1196b2b"
      },
      "execution_count": 82,
      "outputs": [
        {
          "output_type": "stream",
          "name": "stdout",
          "text": [
            "freeCodeCamp:es:divertido\n"
          ]
        }
      ]
    },
    {
      "cell_type": "code",
      "source": [
        "print(\"\".join([\"freeCodeCamp\", \"es\", \"divertido\"]))"
      ],
      "metadata": {
        "colab": {
          "base_uri": "https://localhost:8080/"
        },
        "id": "6ysCDyReO3Ul",
        "outputId": "d0b74848-214b-4029-c0b5-c21a574dbcb2"
      },
      "execution_count": 83,
      "outputs": [
        {
          "output_type": "stream",
          "name": "stdout",
          "text": [
            "freeCodeCampesdivertido\n"
          ]
        }
      ]
    }
  ]
}