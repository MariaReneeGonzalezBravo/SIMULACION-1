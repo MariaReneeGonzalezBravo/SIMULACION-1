{
  "nbformat": 4,
  "nbformat_minor": 0,
  "metadata": {
    "colab": {
      "provenance": [],
      "authorship_tag": "ABX9TyOmE6DWgWrIqyHYl7EHfi6D",
      "include_colab_link": true
    },
    "kernelspec": {
      "name": "python3",
      "display_name": "Python 3"
    },
    "language_info": {
      "name": "python"
    }
  },
  "cells": [
    {
      "cell_type": "markdown",
      "metadata": {
        "id": "view-in-github",
        "colab_type": "text"
      },
      "source": [
        "<a href=\"https://colab.research.google.com/github/MariaReneeGonzalezBravo/SIMULACION-1/blob/main/buffon.ipynb\" target=\"_parent\"><img src=\"https://colab.research.google.com/assets/colab-badge.svg\" alt=\"Open In Colab\"/></a>"
      ]
    },
    {
      "cell_type": "markdown",
      "source": [
        "## Aguja de Buffon\n",
        "\n",
        "\n",
        "\n",
        "*   17/06/24\n",
        "*   González Bravo María Renée\n",
        "\n",
        "\n",
        "\n",
        "\n",
        "El problema de la aguja de Buffon es un experimento probabilístico que puede ser utilizado para estimar el valor de π. Este problema consiste en lanzar una aguja de longitud `L` sobre una superficie con líneas paralelas separadas por una distancia `d` y calcular la probabilidad de que la aguja cruce una de estas líneas.\n",
        "\n",
        "\n",
        "Consideremos el siguiente escenario:\n",
        "- `L` es la longitud de la aguja.\n",
        "- `d` es la distancia entre las líneas (asumimos que `d ≥ L`).\n",
        "\n",
        "Para que la aguja cruce una línea, el centro de la aguja debe estar lo suficientemente cerca de una línea y el ángulo de la aguja debe ser adecuado.\n",
        "\n",
        "\n",
        "\n",
        "1. **Coordenadas del Centro y Ángulo de la Aguja**:\n",
        "    - Sea `x` la distancia desde el centro de la aguja hasta la línea más cercana.\n",
        "    - Sea `θ` el ángulo que forma la aguja con respecto a las líneas paralelas.\n",
        "\n",
        "2. **Condición de Cruce**:\n",
        "    - La aguja cruza una línea si la proyección horizontal de la mitad de la aguja es menor que `x`.\n",
        "\n",
        " $ x < \\frac{L}{2} \\sin(θ) $\n",
        "\n",
        "3. **Espacio de Probabilidades**:\n",
        "    - `x` es uniformemente distribuido entre 0 y `d/2`.\n",
        "    - `θ` es uniformemente distribuido entre 0 y `π/2`.\n",
        "\n",
        "4. **Cálculo de la Probabilidad**:\n",
        "    - La probabilidad de cruce `P(cruce)` es el área bajo la curva `x < (L/2) sin(θ)` en el espacio de `x` y `θ`.\n",
        "\n",
        "    La integral de la probabilidad se da por:\n",
        "\n",
        "$\n",
        "P(\\text{cruce}) = \\frac{2}{π} \\int_0^{π/2} \\sin(θ) dθ = \\frac{2}{π}\n",
        "   $\n",
        "\n",
        "    Esta integral se simplifica a:\n",
        "\n",
        "$\n",
        "P(\\text{cruce}) = \\frac{2L}{dπ}\n",
        "$\n",
        "\n",
        "    Donde:\n",
        "    - `L` es la longitud de la aguja.\n",
        "    - `d` es la distancia entre las líneas.\n",
        "\n",
        "    Asumiendo `L = d`, la probabilidad se simplifica a:\n",
        "\n",
        "$\n",
        "  P(\\text{cruce}) = \\frac{2}{π}\n",
        "$\n",
        "\n",
        "5. **Estimación de π**:\n",
        "    - La probabilidad se estima como la fracción de veces que la aguja cruza una línea en `N` lanzamientos.\n",
        "    \n",
        "    Por lo tanto, podemos reorganizar para resolver π:\n",
        "\n",
        "$\n",
        "  π ≈ \\frac{N}{suma}\n",
        "$\n",
        "\n",
        "    Donde `suma` es el número de veces que la aguja cruza una línea en `N` lanzamientos.\n",
        "\n",
        "### Implementación en Python\n",
        "\n",
        "\n",
        "\n",
        "\n"
      ],
      "metadata": {
        "id": "O9xvYlizc2fD"
      }
    },
    {
      "cell_type": "code",
      "source": [
        "import numpy as np\n",
        "\n",
        "def pi(N=1000000):\n",
        "    sum = 0\n",
        "    x = np.random.uniform(0, 1, N)\n",
        "    angulo = (1/2) * np.pi * np.random.uniform(0, 1, N)\n",
        "\n",
        "    for i in range(N):\n",
        "        if x[i] < 0.5 * np.sin(angulo[i]):\n",
        "            sum += 1\n",
        "\n",
        "    return N / sum\n"
      ],
      "metadata": {
        "id": "6D8dKFMkdsQ3"
      },
      "execution_count": 19,
      "outputs": []
    },
    {
      "cell_type": "code",
      "source": [
        "\n",
        "print(\"Estimación de pi usando el método de Aguja de Buffon es : \", pi())"
      ],
      "metadata": {
        "colab": {
          "base_uri": "https://localhost:8080/"
        },
        "id": "SvVCAj9OeZbH",
        "outputId": "f53a493a-fecf-4134-d6f7-4f83e043fbe6"
      },
      "execution_count": 20,
      "outputs": [
        {
          "output_type": "stream",
          "name": "stdout",
          "text": [
            "Estimación de pi usando el método de Aguja de Buffon es :  6.260701887288584\n"
          ]
        }
      ]
    }
  ]
}