{
  "cells": [
    {
      "cell_type": "markdown",
      "metadata": {
        "id": "view-in-github",
        "colab_type": "text"
      },
      "source": [
        "<a href=\"https://colab.research.google.com/github/MariaReneeGonzalezBravo/SIMULACION-1/blob/main/metodo_de_congruencia.ipynb\" target=\"_parent\"><img src=\"https://colab.research.google.com/assets/colab-badge.svg\" alt=\"Open In Colab\"/></a>"
      ]
    },
    {
      "cell_type": "code",
      "execution_count": null,
      "metadata": {
        "colab": {
          "background_save": true
        },
        "id": "X1YsjuvW5l8V"
      },
      "outputs": [],
      "source": [
        "#Maria Renee Gonzalez Bravo\n",
        "#7mm1\n",
        "#Numeros Aleatorios- Métodos de generación\n",
        "#Numeros Aleatorios- Métodos de generación\n",
        "#Generador Congruencial\n",
        "\n",
        "def num(m,x0,a,c,iteraciones ):\n",
        "  xn=x0 #definimos la semilla\n",
        "  for i in range(iteraciones):\n",
        "    x1= xn/16\n",
        "    xn= (a*xn+c) % m #operacion del generador congruencial\n",
        "    print(f'x{i+1} = {xn}')\n",
        "    print(f'x{i+1} = {x1}')\n",
        "\n",
        "#m es el que detrmina a partir de cuando se va a a repetir, determina el ciclo de vida\n"
      ]
    },
    {
      "cell_type": "code",
      "execution_count": null,
      "metadata": {
        "colab": {
          "base_uri": "https://localhost:8080/"
        },
        "id": "vQHN2st_DlgM",
        "outputId": "735dcfa1-756f-42c2-a0e3-69eb5172e8da"
      },
      "outputs": [
        {
          "name": "stdout",
          "output_type": "stream",
          "text": [
            "x1 = 3\n",
            "x1 = 0.375\n",
            "x2 = 4\n",
            "x2 = 0.1875\n",
            "x3 = 9\n",
            "x3 = 0.25\n",
            "x4 = 2\n",
            "x4 = 0.5625\n",
            "x5 = 15\n",
            "x5 = 0.125\n",
            "x6 = 0\n",
            "x6 = 0.9375\n",
            "x7 = 5\n",
            "x7 = 0.0\n",
            "x8 = 14\n",
            "x8 = 0.3125\n",
            "x9 = 11\n",
            "x9 = 0.875\n",
            "x10 = 12\n",
            "x10 = 0.6875\n",
            "x11 = 1\n",
            "x11 = 0.75\n",
            "x12 = 10\n",
            "x12 = 0.0625\n",
            "x13 = 7\n",
            "x13 = 0.625\n",
            "x14 = 8\n",
            "x14 = 0.4375\n",
            "x15 = 13\n",
            "x15 = 0.5\n",
            "x16 = 6\n",
            "x16 = 0.8125\n",
            "x17 = 3\n",
            "x17 = 0.375\n",
            "x18 = 4\n",
            "x18 = 0.1875\n",
            "x19 = 9\n",
            "x19 = 0.25\n",
            "x20 = 2\n",
            "x20 = 0.5625\n",
            "x21 = 15\n",
            "x21 = 0.125\n",
            "x22 = 0\n",
            "x22 = 0.9375\n",
            "x23 = 5\n",
            "x23 = 0.0\n",
            "x24 = 14\n",
            "x24 = 0.3125\n",
            "x25 = 11\n",
            "x25 = 0.875\n",
            "x26 = 12\n",
            "x26 = 0.6875\n",
            "x27 = 1\n",
            "x27 = 0.75\n",
            "x28 = 10\n",
            "x28 = 0.0625\n",
            "x29 = 7\n",
            "x29 = 0.625\n",
            "x30 = 8\n",
            "x30 = 0.4375\n",
            "x31 = 13\n",
            "x31 = 0.5\n",
            "x32 = 6\n",
            "x32 = 0.8125\n",
            "x33 = 3\n",
            "x33 = 0.375\n",
            "x34 = 4\n",
            "x34 = 0.1875\n",
            "x35 = 9\n",
            "x35 = 0.25\n",
            "x36 = 2\n",
            "x36 = 0.5625\n",
            "x37 = 15\n",
            "x37 = 0.125\n",
            "x38 = 0\n",
            "x38 = 0.9375\n",
            "x39 = 5\n",
            "x39 = 0.0\n",
            "x40 = 14\n",
            "x40 = 0.3125\n",
            "x41 = 11\n",
            "x41 = 0.875\n",
            "x42 = 12\n",
            "x42 = 0.6875\n",
            "x43 = 1\n",
            "x43 = 0.75\n",
            "x44 = 10\n",
            "x44 = 0.0625\n",
            "x45 = 7\n",
            "x45 = 0.625\n",
            "x46 = 8\n",
            "x46 = 0.4375\n",
            "x47 = 13\n",
            "x47 = 0.5\n",
            "x48 = 6\n",
            "x48 = 0.8125\n",
            "x49 = 3\n",
            "x49 = 0.375\n",
            "x50 = 4\n",
            "x50 = 0.1875\n"
          ]
        }
      ],
      "source": [
        "num(100,27,17,43,200)"
      ]
    }
  ],
  "metadata": {
    "colab": {
      "provenance": [],
      "authorship_tag": "ABX9TyMan/Ix/Jd2lM8C6xBF3+Fh",
      "include_colab_link": true
    },
    "kernelspec": {
      "display_name": "Python 3",
      "name": "python3"
    },
    "language_info": {
      "name": "python"
    }
  },
  "nbformat": 4,
  "nbformat_minor": 0
}