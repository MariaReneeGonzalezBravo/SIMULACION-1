{
  "nbformat": 4,
  "nbformat_minor": 0,
  "metadata": {
    "colab": {
      "provenance": [],
      "authorship_tag": "ABX9TyMNLDZfRNjW4fvNuzKv1I74",
      "include_colab_link": true
    },
    "kernelspec": {
      "name": "python3",
      "display_name": "Python 3"
    },
    "language_info": {
      "name": "python"
    }
  },
  "cells": [
    {
      "cell_type": "markdown",
      "metadata": {
        "id": "view-in-github",
        "colab_type": "text"
      },
      "source": [
        "<a href=\"https://colab.research.google.com/github/MariaReneeGonzalezBravo/SIMULACION-1/blob/main/Prueba_de_corridas.ipynb\" target=\"_parent\"><img src=\"https://colab.research.google.com/assets/colab-badge.svg\" alt=\"Open In Colab\"/></a>"
      ]
    },
    {
      "cell_type": "code",
      "execution_count": 9,
      "metadata": {
        "colab": {
          "base_uri": "https://localhost:8080/"
        },
        "id": "-W7BVVUm4o_M",
        "outputId": "26bfd204-e8ed-46f2-ba17-f20dc2655227"
      },
      "outputs": [
        {
          "output_type": "stream",
          "name": "stdout",
          "text": [
            "+----+-----------+----------+\n",
            "| N  | Secuencia | longitud |\n",
            "+----+-----------+----------+\n",
            "| 1  |     1     |    1     |\n",
            "| 2  |     0     |          |\n",
            "| 3  |     0     |          |\n",
            "| 4  |     1     |    2     |\n",
            "| 5  |     0     |          |\n",
            "| 6  |     0     |          |\n",
            "| 7  |     1     |    2     |\n",
            "| 8  |     0     |          |\n",
            "| 9  |     1     |          |\n",
            "| 10 |     0     |          |\n",
            "| 11 |     1     |          |\n",
            "| 12 |     0     |          |\n",
            "| 13 |     1     |          |\n",
            "| 14 |     1     |          |\n",
            "| 15 |     1     |          |\n",
            "| 16 |     0     |    3     |\n",
            "| 17 |     0     |          |\n",
            "| 18 |     1     |    2     |\n",
            "| 19 |     0     |          |\n",
            "| 20 |     0     |          |\n",
            "| 21 |     0     |          |\n",
            "| 22 |     0     |          |\n",
            "| 23 |     1     |    4     |\n",
            "| 24 |     1     |          |\n",
            "+----+-----------+----------+\n",
            "El valor de Zo es:  -0.6567091033031179\n",
            "El valor de Z es:  1.96\n",
            "Por lo tanto, se acepta la hipotesis.\n"
          ]
        }
      ],
      "source": [
        "#Maria Renee Gonzalez Bravo\n",
        "#7mm1\n",
        "#Prueba de corridas\n",
        "\n",
        "#Sirve para verificar la aleatoriedad de un conjunto de números\n",
        "# Ho := Los numeros de la muestra son independientes.\n",
        "#H1 := rechaza Ho\n",
        "\n",
        "import numpy as np\n",
        "from prettytable import PrettyTable\n",
        "import math\n",
        "\n",
        "def sec(datos,n):\n",
        "\n",
        "    indices = np.arange(n) # inicilizamos el arreglo donde guardaremos las secuencias\n",
        "    indices = indices[1:]\n",
        "    S = []\n",
        "    for i in indices: # compraramos cada dato con el anterior a el,  si es mayor = 0, otro caso = 1\n",
        "        if datos[i] <= datos[i-1]:\n",
        "           S.append(0)\n",
        "        else:\n",
        "           S.append(1)\n",
        "    return S\n",
        "\n",
        "def corridas(S):\n",
        "    indices = np.arange(len(S))\n",
        "\n",
        "# la variable c contara las corridas, la inicializamos y lo mismo con la longitud  l\n",
        "    c = 0\n",
        "    l = []\n",
        "    long = 0\n",
        "    # en las iteraciones, el primer elemento abrira las corridas, pero en las sig. si un elemento es dif, al anterior se añade una corrida\n",
        "    # guardando su longitud l, si no, se mantiene el # de corridas c\n",
        "    for i in indices:\n",
        "       if i == 0:\n",
        "         c = c + 1\n",
        "         l.append(1)\n",
        "       else:\n",
        "         if S[i] == S[i-1]:\n",
        "            c = c\n",
        "            l.append(\"\")\n",
        "            long = long + 1\n",
        "         else:\n",
        "            c = c + 1\n",
        "            if long == 0:\n",
        "               l.append(\"\")\n",
        "            else:\n",
        "               l.append(long)\n",
        "            long = 0\n",
        "    return c,l\n",
        "\n",
        "\n",
        "# datos usados\n",
        "datos = [0.048, 0.591, 0.478, 0.166, 0.932, 0.926,0.007, 0.551, 0.362, 0.533,0.368, 0.437, 0.178, 0.411, 0.545,0.787, 0.594,0.086, 0.951, 0.772, 0.298, 0.199, 0.157, 0.401, 0.631]\n",
        "datos = np.array(datos)\n",
        "n = len(datos)\n",
        "S = sec(datos,n)\n",
        "c1, l = corridas(S)\n",
        "\n",
        "#tabla\n",
        "\n",
        "table = PrettyTable()\n",
        "indices = np.arange(len(S) + 1)\n",
        "indices = indices[1:]\n",
        "indices1 = np.arange(len(S))\n",
        "for i in indices1:\n",
        "   if i == 0:\n",
        "      X = 0\n",
        "   else:\n",
        "     if type(l[i]) == int:\n",
        "        l[i] = l[i] + 1\n",
        "table.add_column(\"N\",indices)\n",
        "table.add_column(\"Secuencia\",S)\n",
        "table.add_column(\"longitud\",l)\n",
        "print(table)\n",
        "media = ((2*n) - 1)/3\n",
        "varianza = ((16*n) - 29)/90\n",
        "Zo = (c1 - media)/(math.sqrt(varianza))\n",
        "Z = 1.96\n",
        "print(\"El valor de Zo es: \",Zo)\n",
        "print(\"El valor de Z es: \",Z)\n",
        "if -1*Z <= Zo and Zo <= Z:\n",
        "    print(\"Por lo tanto, se acepta la hipotesis.\")\n",
        "else:\n",
        "    print(\"Por lo tanto, se rechaza la hipoteis.\")"
      ]
    }
  ]
}