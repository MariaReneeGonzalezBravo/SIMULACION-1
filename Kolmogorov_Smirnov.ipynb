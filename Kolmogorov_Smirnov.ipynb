{
  "nbformat": 4,
  "nbformat_minor": 0,
  "metadata": {
    "colab": {
      "provenance": [],
      "authorship_tag": "ABX9TyM+Gi0Zfk7QMk3FPWDLjwPb",
      "include_colab_link": true
    },
    "kernelspec": {
      "name": "python3",
      "display_name": "Python 3"
    },
    "language_info": {
      "name": "python"
    }
  },
  "cells": [
    {
      "cell_type": "markdown",
      "metadata": {
        "id": "view-in-github",
        "colab_type": "text"
      },
      "source": [
        "<a href=\"https://colab.research.google.com/github/MariaReneeGonzalezBravo/SIMULACION-1/blob/main/Kolmogorov_Smirnov.ipynb\" target=\"_parent\"><img src=\"https://colab.research.google.com/assets/colab-badge.svg\" alt=\"Open In Colab\"/></a>"
      ]
    },
    {
      "cell_type": "code",
      "execution_count": 64,
      "metadata": {
        "id": "vldGs3Os7tOH"
      },
      "outputs": [],
      "source": [
        "#Gonzalez Bravo Maria Renee\n",
        "#7MM1\n",
        "#Prueba kolmogorov-Smmirnov\n",
        "#Pasos\n",
        "#1- Ordenar de mayor a menor datos aleatorios\n",
        "\n",
        "from prettytable import PrettyTable\n",
        "import numpy as np\n",
        "\n",
        "datos = [0.8797, 0.9848, 0.4557, 0.9170, 0.8376, 0.3884, 0.3469, 0.1592, 0.2204, 0.6235, 0.6289, 0.7977, 0.8536, 0.5991, 0.3681, 0.8750, 0.5844, 0.8846, 0.5461, 0.2088, 0.5999, 0.8147, 0.3410, 0.5739, 0.1525, 0.8589, 0.6431, 0.1492, 0.3254, 0.2006, 0.9996, 0.7387, 0.8681, 0.0856, 0.4720, 0.2415, 0.5613, 0.5291, 0.2258, 0.4272, 0.3808, 0.0318, 0.3188, 0.4603, 0.6360, 0.9606, 0.7401, 0.5992, 0.5027, 0.0954]\n",
        "lista_ordenada = sorted(datos) #oredena los datos de menor a mayor\n",
        "\n",
        "def num(datos):\n",
        "\n",
        "  tabla = PrettyTable()\n",
        "  tabla.field_names = [\"i\", \"Xi\"]\n",
        "\n",
        "  for i in range(50):\n",
        "      tabla.add_row([i + 1, lista_ordenada[i]])\n",
        "  print(tabla)\n",
        "\n",
        "#2- obtener D+, D- y D\n",
        "\n",
        "def Dmas(lista_ordenada):\n",
        "  maximo_valor= float('-inf') #inicializamos para almacenar el máximo\n",
        "  for i in range(50):\n",
        "    valor = abs((i/50) - lista_ordenada[i])\n",
        "    maximo_valor = max(maximo_valor,valor)\n",
        "  return maximo_valor\n",
        "\n",
        "def Dmenos(lista_ordenada):\n",
        "  minimo_valor=float('-inf')\n",
        "  for i in range(50):\n",
        "    valor = abs(lista_ordenada[i]- ((i-1)/50))\n",
        "    minimo_valor = max(minimo_valor, valor)\n",
        "  return minimo_valor\n",
        "\n",
        "def D(Dmas, Dmenos):\n",
        "  comparacion = max(Dmas(lista_ordenada),Dmenos(lista_ordenada))\n",
        "  return comparacion\n",
        "\n",
        "\n",
        "#3-Comparar con el valor crítico, se acepta si D<val. critico\n",
        "val_critico = 0.1246 # valor de la tabla con alpha= 0.05 y n=50\n",
        "def acepta(D,val_critico):\n",
        "  if D(Dmas,Dmenos) < val_critico:\n",
        "    print(\"Se acepta la hipótesis\")\n",
        "  else:\n",
        "    print(\"Se rechaza la hipótesis\")\n"
      ]
    },
    {
      "cell_type": "code",
      "source": [
        "num(datos)"
      ],
      "metadata": {
        "colab": {
          "base_uri": "https://localhost:8080/"
        },
        "id": "IqLt1_92FlZA",
        "outputId": "cc965dc1-b4ce-470e-be34-fd5c24d95e39"
      },
      "execution_count": 70,
      "outputs": [
        {
          "output_type": "stream",
          "name": "stdout",
          "text": [
            "+----+--------+\n",
            "| i  |   Xi   |\n",
            "+----+--------+\n",
            "| 1  | 0.0318 |\n",
            "| 2  | 0.0856 |\n",
            "| 3  | 0.0954 |\n",
            "| 4  | 0.1492 |\n",
            "| 5  | 0.1525 |\n",
            "| 6  | 0.1592 |\n",
            "| 7  | 0.2006 |\n",
            "| 8  | 0.2088 |\n",
            "| 9  | 0.2204 |\n",
            "| 10 | 0.2258 |\n",
            "| 11 | 0.2415 |\n",
            "| 12 | 0.3188 |\n",
            "| 13 | 0.3254 |\n",
            "| 14 | 0.341  |\n",
            "| 15 | 0.3469 |\n",
            "| 16 | 0.3681 |\n",
            "| 17 | 0.3808 |\n",
            "| 18 | 0.3884 |\n",
            "| 19 | 0.4272 |\n",
            "| 20 | 0.4557 |\n",
            "| 21 | 0.4603 |\n",
            "| 22 | 0.472  |\n",
            "| 23 | 0.5027 |\n",
            "| 24 | 0.5291 |\n",
            "| 25 | 0.5461 |\n",
            "| 26 | 0.5613 |\n",
            "| 27 | 0.5739 |\n",
            "| 28 | 0.5844 |\n",
            "| 29 | 0.5991 |\n",
            "| 30 | 0.5992 |\n",
            "| 31 | 0.5999 |\n",
            "| 32 | 0.6235 |\n",
            "| 33 | 0.6289 |\n",
            "| 34 | 0.636  |\n",
            "| 35 | 0.6431 |\n",
            "| 36 | 0.7387 |\n",
            "| 37 | 0.7401 |\n",
            "| 38 | 0.7977 |\n",
            "| 39 | 0.8147 |\n",
            "| 40 | 0.8376 |\n",
            "| 41 | 0.8536 |\n",
            "| 42 | 0.8589 |\n",
            "| 43 | 0.8681 |\n",
            "| 44 | 0.875  |\n",
            "| 45 | 0.8797 |\n",
            "| 46 | 0.8846 |\n",
            "| 47 | 0.917  |\n",
            "| 48 | 0.9606 |\n",
            "| 49 | 0.9848 |\n",
            "| 50 | 0.9996 |\n",
            "+----+--------+\n"
          ]
        }
      ]
    },
    {
      "cell_type": "code",
      "source": [
        "Dmas(lista_ordenada)"
      ],
      "metadata": {
        "colab": {
          "base_uri": "https://localhost:8080/"
        },
        "id": "yiFiseAGNpJk",
        "outputId": "f40e5cb3-b203-4132-cd58-9bb47f03d493"
      },
      "execution_count": 65,
      "outputs": [
        {
          "output_type": "execute_result",
          "data": {
            "text/plain": [
              "0.09879999999999997"
            ]
          },
          "metadata": {},
          "execution_count": 65
        }
      ]
    },
    {
      "cell_type": "code",
      "source": [
        "Dmenos(lista_ordenada)"
      ],
      "metadata": {
        "colab": {
          "base_uri": "https://localhost:8080/"
        },
        "id": "4wwmFf6nN0r2",
        "outputId": "826928a7-88f9-4aba-facf-465dd545c10c"
      },
      "execution_count": 66,
      "outputs": [
        {
          "output_type": "execute_result",
          "data": {
            "text/plain": [
              "0.11879999999999996"
            ]
          },
          "metadata": {},
          "execution_count": 66
        }
      ]
    },
    {
      "cell_type": "code",
      "source": [
        "D(Dmas,Dmenos)\n"
      ],
      "metadata": {
        "colab": {
          "base_uri": "https://localhost:8080/"
        },
        "id": "RdOpNipGH8wQ",
        "outputId": "88c700fd-0205-4a7b-efa5-14b054574900"
      },
      "execution_count": 67,
      "outputs": [
        {
          "output_type": "execute_result",
          "data": {
            "text/plain": [
              "0.11879999999999996"
            ]
          },
          "metadata": {},
          "execution_count": 67
        }
      ]
    },
    {
      "cell_type": "code",
      "source": [
        "acepta(D,val_critico)"
      ],
      "metadata": {
        "colab": {
          "base_uri": "https://localhost:8080/"
        },
        "id": "cV0uVAY0NwC8",
        "outputId": "7a4f857c-d1d1-4e0c-fd0e-1eaacfe7cf85"
      },
      "execution_count": 68,
      "outputs": [
        {
          "output_type": "stream",
          "name": "stdout",
          "text": [
            "Se acepta la hipótesis\n"
          ]
        }
      ]
    }
  ]
}