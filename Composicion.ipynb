{
  "nbformat": 4,
  "nbformat_minor": 0,
  "metadata": {
    "colab": {
      "provenance": [],
      "authorship_tag": "ABX9TyNLM4lGgBRNABx6vx4tWAO3",
      "include_colab_link": true
    },
    "kernelspec": {
      "name": "python3",
      "display_name": "Python 3"
    },
    "language_info": {
      "name": "python"
    }
  },
  "cells": [
    {
      "cell_type": "markdown",
      "metadata": {
        "id": "view-in-github",
        "colab_type": "text"
      },
      "source": [
        "<a href=\"https://colab.research.google.com/github/MariaReneeGonzalezBravo/SIMULACION-1/blob/main/Composicion.ipynb\" target=\"_parent\"><img src=\"https://colab.research.google.com/assets/colab-badge.svg\" alt=\"Open In Colab\"/></a>"
      ]
    },
    {
      "cell_type": "markdown",
      "source": [
        "**COMPOSICIÓN**\n",
        "\n",
        "\n",
        "*   14/05/24\n",
        "*   González Bravo María Renée\n",
        "\n",
        "\n",
        "Mediante este método la distribución de probabilidad $ f(x) $ se expresa como una mezcla de varias distribuciones de probabilidad $ f_i(x) $ seleccionadas adecuadamente.\n",
        "\n",
        "Generar X\n",
        "Dividir la distribución de probabilidad original en sub-áreas.\n",
        "\n",
        "1.   Dividir la distribución de probabilidad original en sub-áreas.\n",
        "2.   Definir una distribución de probabilidad para cada sub-área.\n",
        " i.e, hacer $f_1(x)$ y $f_2(x)$ en sus respectivos intervalos\n",
        "3. Expresar la distribución de probabilidad original en la forma siguiente:\n",
        "    $\n",
        "    f(x) = A_1 f_1(x) + A_2 f_2(x) + \\ldots + A_n f_n(x)\n",
        "    $ Por símetria si son iguales $A_1 = \\frac{1}{2}=A_2$\n",
        "4. Gráfica acumulativa\n",
        "5.  $F(x) = \\int_{-\\infty}^{x} f(s) \\, ds = u$ despejando a $x$ para cada $f_1(x)$ y $f_2(x)$\n",
        "\n",
        "\n",
        "\n",
        "Pseudocódigo\n",
        "\n",
        "**Paso 1** Generar $ U_1,U_2  \\sim U(0,1) $\n",
        "\n",
        "**Paso 2** Si $ U_1 \\in (0, A_1)$:\n",
        "\n",
        "Hacer $X=f_1$ con $u=U_2$\n",
        "\n",
        "**Paso 3** Otro caso: Hacer $X=f_2 $ con  $u=U_2$\n",
        "\n",
        "**Paso 4** Imprimir $ X$\n",
        "    "
      ],
      "metadata": {
        "id": "gAmH5UlvlYpd"
      }
    },
    {
      "cell_type": "code",
      "execution_count": 1,
      "metadata": {
        "id": "SizHfTeANxKt"
      },
      "outputs": [],
      "source": [
        "import random as rnd\n",
        "import numpy as np\n",
        "import matplotlib.pyplot as plt\n",
        "import math"
      ]
    },
    {
      "cell_type": "code",
      "source": [
        "def comp(n):\n",
        "   x = []\n",
        "   A1 = 1/2\n",
        "   for i in range(n):\n",
        "       u1 = rnd.uniform(0,1)\n",
        "       u2 = rnd.uniform(0,1)\n",
        "       if 0 <= u1 <= A1:\n",
        "          x.append(-np.sqrt(1 - u2))\n",
        "       if A1 < u1 <= 1:\n",
        "          x.append(np.sqrt(u2))\n",
        "   return x"
      ],
      "metadata": {
        "id": "V7pzgmWNONVC"
      },
      "execution_count": 2,
      "outputs": []
    },
    {
      "cell_type": "code",
      "source": [
        "def cdf(x):\n",
        "    n = len(x)\n",
        "    y = np.sort(x)\n",
        "    g = np.arange(n)/n\n",
        "    return y,g"
      ],
      "metadata": {
        "id": "erRx3O64Ti0M"
      },
      "execution_count": 3,
      "outputs": []
    },
    {
      "cell_type": "code",
      "source": [
        "n = 100000"
      ],
      "metadata": {
        "id": "Hxl17ByzN6Hb"
      },
      "execution_count": 4,
      "outputs": []
    },
    {
      "cell_type": "code",
      "source": [
        "x = comp(n)"
      ],
      "metadata": {
        "id": "x2AMlXZIPmWL"
      },
      "execution_count": 5,
      "outputs": []
    },
    {
      "cell_type": "code",
      "source": [
        "np.var(x)"
      ],
      "metadata": {
        "colab": {
          "base_uri": "https://localhost:8080/"
        },
        "id": "h4CoQR-uRjDu",
        "outputId": "245b46c8-17f3-4a6e-9757-c15d94d2dd88"
      },
      "execution_count": 6,
      "outputs": [
        {
          "output_type": "execute_result",
          "data": {
            "text/plain": [
              "0.4997113658607233"
            ]
          },
          "metadata": {},
          "execution_count": 6
        }
      ]
    },
    {
      "cell_type": "code",
      "source": [
        "plt.hist(x,bins = 500)"
      ],
      "metadata": {
        "colab": {
          "base_uri": "https://localhost:8080/",
          "height": 1000
        },
        "id": "aeuL_83sRnbu",
        "outputId": "0e180b81-03c6-4754-f12f-aac077aff530"
      },
      "execution_count": 7,
      "outputs": [
        {
          "output_type": "execute_result",
          "data": {
            "text/plain": [
              "(array([381., 376., 380., 399., 367., 421., 388., 384., 406., 382., 376.,\n",
              "        417., 355., 363., 402., 396., 367., 372., 372., 370., 391., 384.,\n",
              "        399., 375., 357., 374., 351., 383., 341., 339., 336., 353., 346.,\n",
              "        362., 369., 337., 345., 323., 339., 327., 355., 347., 328., 329.,\n",
              "        355., 332., 315., 364., 354., 303., 312., 326., 340., 288., 310.,\n",
              "        344., 307., 295., 330., 352., 290., 310., 293., 323., 284., 318.,\n",
              "        295., 289., 280., 296., 294., 286., 266., 257., 270., 284., 293.,\n",
              "        280., 289., 279., 285., 253., 265., 261., 247., 269., 275., 256.,\n",
              "        262., 244., 253., 250., 239., 260., 256., 248., 234., 246., 240.,\n",
              "        226., 240., 253., 216., 210., 241., 229., 218., 215., 213., 198.,\n",
              "        229., 216., 200., 195., 246., 228., 198., 204., 192., 201., 218.,\n",
              "        201., 188., 202., 204., 207., 193., 183., 190., 192., 186., 221.,\n",
              "        191., 212., 192., 173., 173., 185., 162., 169., 154., 188., 172.,\n",
              "        182., 161., 161., 176., 155., 169., 177., 170., 137., 169., 145.,\n",
              "        149., 166., 136., 144., 127., 140., 123., 126., 137., 146., 143.,\n",
              "        133., 140., 143., 143., 147., 131., 108., 124., 100., 116., 120.,\n",
              "        137., 114., 127., 118., 108., 121., 110.,  96., 113., 119.,  89.,\n",
              "        106.,  91., 104.,  90.,  99.,  88.,  83.,  73.,  90.,  86.,  75.,\n",
              "         65.,  72.,  76.,  77.,  92.,  79.,  87.,  71.,  80.,  67.,  68.,\n",
              "         61.,  55.,  73.,  58.,  55.,  38.,  59.,  56.,  67.,  48.,  48.,\n",
              "         61.,  47.,  50.,  36.,  31.,  44.,  46.,  36.,  25.,  29.,  40.,\n",
              "         28.,  33.,  31.,  31.,  15.,  31.,  19.,  11.,  16.,  23.,  13.,\n",
              "         11.,  10.,  12.,   3.,   8.,   5.,   0.,   0.,   2.,   3.,   5.,\n",
              "          7.,  13.,   3.,  12.,   9.,  13.,  11.,  11.,  18.,  19.,  15.,\n",
              "         23.,  30.,  22.,  26.,  29.,  34.,  36.,  21.,  44.,  36.,  47.,\n",
              "         37.,  46.,  45.,  52.,  45.,  56.,  49.,  46.,  55.,  49.,  56.,\n",
              "         73.,  61.,  71.,  69.,  68.,  89.,  66.,  82.,  70.,  64.,  77.,\n",
              "         58.,  86.,  74.,  80.,  81.,  97.,  90.,  82.,  96.,  91.,  87.,\n",
              "        106.,  96.,  90., 114.,  90., 115., 106., 114., 110., 108., 125.,\n",
              "        106., 108., 112., 105.,  92., 114., 120., 123., 101., 138., 125.,\n",
              "        118., 133., 150., 122., 131., 149., 163., 126., 151., 154., 148.,\n",
              "        149., 159., 152., 141., 163., 171., 167., 173., 157., 155., 156.,\n",
              "        162., 167., 166., 192., 181., 181., 170., 187., 182., 211., 173.,\n",
              "        190., 167., 196., 186., 195., 186., 205., 197., 177., 194., 184.,\n",
              "        185., 187., 188., 198., 182., 203., 207., 195., 215., 209., 193.,\n",
              "        214., 199., 214., 220., 217., 227., 241., 207., 224., 250., 222.,\n",
              "        242., 240., 244., 260., 240., 212., 252., 264., 251., 229., 282.,\n",
              "        270., 253., 232., 250., 278., 252., 276., 276., 269., 257., 281.,\n",
              "        267., 259., 240., 302., 276., 328., 275., 267., 255., 277., 275.,\n",
              "        307., 294., 290., 291., 267., 302., 321., 301., 284., 280., 298.,\n",
              "        262., 295., 327., 296., 324., 321., 323., 309., 329., 303., 311.,\n",
              "        305., 357., 308., 344., 328., 311., 332., 346., 305., 357., 326.,\n",
              "        332., 322., 310., 350., 332., 345., 351., 355., 349., 364., 344.,\n",
              "        368., 365., 366., 323., 351., 349., 401., 353., 381., 376., 383.,\n",
              "        409., 382., 368., 379., 389., 354., 374., 373., 396., 378., 372.,\n",
              "        398., 374., 398., 405., 395.]),\n",
              " array([-9.99965131e-01, -9.95965201e-01, -9.91965271e-01, -9.87965341e-01,\n",
              "        -9.83965411e-01, -9.79965481e-01, -9.75965551e-01, -9.71965621e-01,\n",
              "        -9.67965691e-01, -9.63965761e-01, -9.59965831e-01, -9.55965901e-01,\n",
              "        -9.51965971e-01, -9.47966041e-01, -9.43966111e-01, -9.39966181e-01,\n",
              "        -9.35966251e-01, -9.31966321e-01, -9.27966391e-01, -9.23966461e-01,\n",
              "        -9.19966532e-01, -9.15966602e-01, -9.11966672e-01, -9.07966742e-01,\n",
              "        -9.03966812e-01, -8.99966882e-01, -8.95966952e-01, -8.91967022e-01,\n",
              "        -8.87967092e-01, -8.83967162e-01, -8.79967232e-01, -8.75967302e-01,\n",
              "        -8.71967372e-01, -8.67967442e-01, -8.63967512e-01, -8.59967582e-01,\n",
              "        -8.55967652e-01, -8.51967722e-01, -8.47967792e-01, -8.43967863e-01,\n",
              "        -8.39967933e-01, -8.35968003e-01, -8.31968073e-01, -8.27968143e-01,\n",
              "        -8.23968213e-01, -8.19968283e-01, -8.15968353e-01, -8.11968423e-01,\n",
              "        -8.07968493e-01, -8.03968563e-01, -7.99968633e-01, -7.95968703e-01,\n",
              "        -7.91968773e-01, -7.87968843e-01, -7.83968913e-01, -7.79968983e-01,\n",
              "        -7.75969053e-01, -7.71969123e-01, -7.67969194e-01, -7.63969264e-01,\n",
              "        -7.59969334e-01, -7.55969404e-01, -7.51969474e-01, -7.47969544e-01,\n",
              "        -7.43969614e-01, -7.39969684e-01, -7.35969754e-01, -7.31969824e-01,\n",
              "        -7.27969894e-01, -7.23969964e-01, -7.19970034e-01, -7.15970104e-01,\n",
              "        -7.11970174e-01, -7.07970244e-01, -7.03970314e-01, -6.99970384e-01,\n",
              "        -6.95970454e-01, -6.91970524e-01, -6.87970595e-01, -6.83970665e-01,\n",
              "        -6.79970735e-01, -6.75970805e-01, -6.71970875e-01, -6.67970945e-01,\n",
              "        -6.63971015e-01, -6.59971085e-01, -6.55971155e-01, -6.51971225e-01,\n",
              "        -6.47971295e-01, -6.43971365e-01, -6.39971435e-01, -6.35971505e-01,\n",
              "        -6.31971575e-01, -6.27971645e-01, -6.23971715e-01, -6.19971785e-01,\n",
              "        -6.15971855e-01, -6.11971926e-01, -6.07971996e-01, -6.03972066e-01,\n",
              "        -5.99972136e-01, -5.95972206e-01, -5.91972276e-01, -5.87972346e-01,\n",
              "        -5.83972416e-01, -5.79972486e-01, -5.75972556e-01, -5.71972626e-01,\n",
              "        -5.67972696e-01, -5.63972766e-01, -5.59972836e-01, -5.55972906e-01,\n",
              "        -5.51972976e-01, -5.47973046e-01, -5.43973116e-01, -5.39973186e-01,\n",
              "        -5.35973257e-01, -5.31973327e-01, -5.27973397e-01, -5.23973467e-01,\n",
              "        -5.19973537e-01, -5.15973607e-01, -5.11973677e-01, -5.07973747e-01,\n",
              "        -5.03973817e-01, -4.99973887e-01, -4.95973957e-01, -4.91974027e-01,\n",
              "        -4.87974097e-01, -4.83974167e-01, -4.79974237e-01, -4.75974307e-01,\n",
              "        -4.71974377e-01, -4.67974447e-01, -4.63974517e-01, -4.59974587e-01,\n",
              "        -4.55974658e-01, -4.51974728e-01, -4.47974798e-01, -4.43974868e-01,\n",
              "        -4.39974938e-01, -4.35975008e-01, -4.31975078e-01, -4.27975148e-01,\n",
              "        -4.23975218e-01, -4.19975288e-01, -4.15975358e-01, -4.11975428e-01,\n",
              "        -4.07975498e-01, -4.03975568e-01, -3.99975638e-01, -3.95975708e-01,\n",
              "        -3.91975778e-01, -3.87975848e-01, -3.83975918e-01, -3.79975989e-01,\n",
              "        -3.75976059e-01, -3.71976129e-01, -3.67976199e-01, -3.63976269e-01,\n",
              "        -3.59976339e-01, -3.55976409e-01, -3.51976479e-01, -3.47976549e-01,\n",
              "        -3.43976619e-01, -3.39976689e-01, -3.35976759e-01, -3.31976829e-01,\n",
              "        -3.27976899e-01, -3.23976969e-01, -3.19977039e-01, -3.15977109e-01,\n",
              "        -3.11977179e-01, -3.07977249e-01, -3.03977319e-01, -2.99977390e-01,\n",
              "        -2.95977460e-01, -2.91977530e-01, -2.87977600e-01, -2.83977670e-01,\n",
              "        -2.79977740e-01, -2.75977810e-01, -2.71977880e-01, -2.67977950e-01,\n",
              "        -2.63978020e-01, -2.59978090e-01, -2.55978160e-01, -2.51978230e-01,\n",
              "        -2.47978300e-01, -2.43978370e-01, -2.39978440e-01, -2.35978510e-01,\n",
              "        -2.31978580e-01, -2.27978650e-01, -2.23978721e-01, -2.19978791e-01,\n",
              "        -2.15978861e-01, -2.11978931e-01, -2.07979001e-01, -2.03979071e-01,\n",
              "        -1.99979141e-01, -1.95979211e-01, -1.91979281e-01, -1.87979351e-01,\n",
              "        -1.83979421e-01, -1.79979491e-01, -1.75979561e-01, -1.71979631e-01,\n",
              "        -1.67979701e-01, -1.63979771e-01, -1.59979841e-01, -1.55979911e-01,\n",
              "        -1.51979981e-01, -1.47980052e-01, -1.43980122e-01, -1.39980192e-01,\n",
              "        -1.35980262e-01, -1.31980332e-01, -1.27980402e-01, -1.23980472e-01,\n",
              "        -1.19980542e-01, -1.15980612e-01, -1.11980682e-01, -1.07980752e-01,\n",
              "        -1.03980822e-01, -9.99808921e-02, -9.59809622e-02, -9.19810322e-02,\n",
              "        -8.79811023e-02, -8.39811723e-02, -7.99812424e-02, -7.59813124e-02,\n",
              "        -7.19813825e-02, -6.79814525e-02, -6.39815226e-02, -5.99815926e-02,\n",
              "        -5.59816627e-02, -5.19817327e-02, -4.79818028e-02, -4.39818728e-02,\n",
              "        -3.99819429e-02, -3.59820130e-02, -3.19820830e-02, -2.79821531e-02,\n",
              "        -2.39822231e-02, -1.99822932e-02, -1.59823632e-02, -1.19824333e-02,\n",
              "        -7.98250331e-03, -3.98257336e-03,  1.73565856e-05,  4.01728653e-03,\n",
              "         8.01721648e-03,  1.20171464e-02,  1.60170764e-02,  2.00170063e-02,\n",
              "         2.40169363e-02,  2.80168662e-02,  3.20167962e-02,  3.60167261e-02,\n",
              "         4.00166561e-02,  4.40165860e-02,  4.80165160e-02,  5.20164459e-02,\n",
              "         5.60163759e-02,  6.00163058e-02,  6.40162358e-02,  6.80161657e-02,\n",
              "         7.20160957e-02,  7.60160256e-02,  8.00159556e-02,  8.40158855e-02,\n",
              "         8.80158155e-02,  9.20157454e-02,  9.60156753e-02,  1.00015605e-01,\n",
              "         1.04015535e-01,  1.08015465e-01,  1.12015395e-01,  1.16015325e-01,\n",
              "         1.20015255e-01,  1.24015185e-01,  1.28015115e-01,  1.32015045e-01,\n",
              "         1.36014975e-01,  1.40014905e-01,  1.44014835e-01,  1.48014765e-01,\n",
              "         1.52014695e-01,  1.56014625e-01,  1.60014555e-01,  1.64014484e-01,\n",
              "         1.68014414e-01,  1.72014344e-01,  1.76014274e-01,  1.80014204e-01,\n",
              "         1.84014134e-01,  1.88014064e-01,  1.92013994e-01,  1.96013924e-01,\n",
              "         2.00013854e-01,  2.04013784e-01,  2.08013714e-01,  2.12013644e-01,\n",
              "         2.16013574e-01,  2.20013504e-01,  2.24013434e-01,  2.28013364e-01,\n",
              "         2.32013294e-01,  2.36013224e-01,  2.40013153e-01,  2.44013083e-01,\n",
              "         2.48013013e-01,  2.52012943e-01,  2.56012873e-01,  2.60012803e-01,\n",
              "         2.64012733e-01,  2.68012663e-01,  2.72012593e-01,  2.76012523e-01,\n",
              "         2.80012453e-01,  2.84012383e-01,  2.88012313e-01,  2.92012243e-01,\n",
              "         2.96012173e-01,  3.00012103e-01,  3.04012033e-01,  3.08011963e-01,\n",
              "         3.12011893e-01,  3.16011823e-01,  3.20011752e-01,  3.24011682e-01,\n",
              "         3.28011612e-01,  3.32011542e-01,  3.36011472e-01,  3.40011402e-01,\n",
              "         3.44011332e-01,  3.48011262e-01,  3.52011192e-01,  3.56011122e-01,\n",
              "         3.60011052e-01,  3.64010982e-01,  3.68010912e-01,  3.72010842e-01,\n",
              "         3.76010772e-01,  3.80010702e-01,  3.84010632e-01,  3.88010562e-01,\n",
              "         3.92010492e-01,  3.96010421e-01,  4.00010351e-01,  4.04010281e-01,\n",
              "         4.08010211e-01,  4.12010141e-01,  4.16010071e-01,  4.20010001e-01,\n",
              "         4.24009931e-01,  4.28009861e-01,  4.32009791e-01,  4.36009721e-01,\n",
              "         4.40009651e-01,  4.44009581e-01,  4.48009511e-01,  4.52009441e-01,\n",
              "         4.56009371e-01,  4.60009301e-01,  4.64009231e-01,  4.68009161e-01,\n",
              "         4.72009090e-01,  4.76009020e-01,  4.80008950e-01,  4.84008880e-01,\n",
              "         4.88008810e-01,  4.92008740e-01,  4.96008670e-01,  5.00008600e-01,\n",
              "         5.04008530e-01,  5.08008460e-01,  5.12008390e-01,  5.16008320e-01,\n",
              "         5.20008250e-01,  5.24008180e-01,  5.28008110e-01,  5.32008040e-01,\n",
              "         5.36007970e-01,  5.40007900e-01,  5.44007830e-01,  5.48007760e-01,\n",
              "         5.52007689e-01,  5.56007619e-01,  5.60007549e-01,  5.64007479e-01,\n",
              "         5.68007409e-01,  5.72007339e-01,  5.76007269e-01,  5.80007199e-01,\n",
              "         5.84007129e-01,  5.88007059e-01,  5.92006989e-01,  5.96006919e-01,\n",
              "         6.00006849e-01,  6.04006779e-01,  6.08006709e-01,  6.12006639e-01,\n",
              "         6.16006569e-01,  6.20006499e-01,  6.24006429e-01,  6.28006358e-01,\n",
              "         6.32006288e-01,  6.36006218e-01,  6.40006148e-01,  6.44006078e-01,\n",
              "         6.48006008e-01,  6.52005938e-01,  6.56005868e-01,  6.60005798e-01,\n",
              "         6.64005728e-01,  6.68005658e-01,  6.72005588e-01,  6.76005518e-01,\n",
              "         6.80005448e-01,  6.84005378e-01,  6.88005308e-01,  6.92005238e-01,\n",
              "         6.96005168e-01,  7.00005098e-01,  7.04005028e-01,  7.08004957e-01,\n",
              "         7.12004887e-01,  7.16004817e-01,  7.20004747e-01,  7.24004677e-01,\n",
              "         7.28004607e-01,  7.32004537e-01,  7.36004467e-01,  7.40004397e-01,\n",
              "         7.44004327e-01,  7.48004257e-01,  7.52004187e-01,  7.56004117e-01,\n",
              "         7.60004047e-01,  7.64003977e-01,  7.68003907e-01,  7.72003837e-01,\n",
              "         7.76003767e-01,  7.80003697e-01,  7.84003626e-01,  7.88003556e-01,\n",
              "         7.92003486e-01,  7.96003416e-01,  8.00003346e-01,  8.04003276e-01,\n",
              "         8.08003206e-01,  8.12003136e-01,  8.16003066e-01,  8.20002996e-01,\n",
              "         8.24002926e-01,  8.28002856e-01,  8.32002786e-01,  8.36002716e-01,\n",
              "         8.40002646e-01,  8.44002576e-01,  8.48002506e-01,  8.52002436e-01,\n",
              "         8.56002366e-01,  8.60002295e-01,  8.64002225e-01,  8.68002155e-01,\n",
              "         8.72002085e-01,  8.76002015e-01,  8.80001945e-01,  8.84001875e-01,\n",
              "         8.88001805e-01,  8.92001735e-01,  8.96001665e-01,  9.00001595e-01,\n",
              "         9.04001525e-01,  9.08001455e-01,  9.12001385e-01,  9.16001315e-01,\n",
              "         9.20001245e-01,  9.24001175e-01,  9.28001105e-01,  9.32001035e-01,\n",
              "         9.36000965e-01,  9.40000894e-01,  9.44000824e-01,  9.48000754e-01,\n",
              "         9.52000684e-01,  9.56000614e-01,  9.60000544e-01,  9.64000474e-01,\n",
              "         9.68000404e-01,  9.72000334e-01,  9.76000264e-01,  9.80000194e-01,\n",
              "         9.84000124e-01,  9.88000054e-01,  9.91999984e-01,  9.95999914e-01,\n",
              "         9.99999844e-01]),\n",
              " <BarContainer object of 500 artists>)"
            ]
          },
          "metadata": {},
          "execution_count": 7
        },
        {
          "output_type": "display_data",
          "data": {
            "text/plain": [
              "<Figure size 640x480 with 1 Axes>"
            ],
            "image/png": "[encoded data removed]"
          },
          "metadata": {}
        }
      ]
    },
    {
      "cell_type": "code",
      "source": [
        "plt.plot(x)"
      ],
      "metadata": {
        "colab": {
          "base_uri": "https://localhost:8080/",
          "height": 467
        },
        "id": "uFqN0_jIR0qO",
        "outputId": "e44467e4-1efb-4ad9-8c5b-9297e6dc773d"
      },
      "execution_count": 8,
      "outputs": [
        {
          "output_type": "execute_result",
          "data": {
            "text/plain": [
              "[<matplotlib.lines.Line2D at 0x7a748e0c7e20>]"
            ]
          },
          "metadata": {},
          "execution_count": 8
        },
        {
          "output_type": "display_data",
          "data": {
            "text/plain": [
              "<Figure size 640x480 with 1 Axes>"
            ],
            "image/png": "[encoded data removed]"
          },
          "metadata": {}
        }
      ]
    },
    {
      "cell_type": "code",
      "source": [
        "y,g = cdf(x)"
      ],
      "metadata": {
        "id": "rhrUGnesUEzR"
      },
      "execution_count": 9,
      "outputs": []
    },
    {
      "cell_type": "code",
      "source": [
        "plt.step(y,g)"
      ],
      "metadata": {
        "colab": {
          "base_uri": "https://localhost:8080/",
          "height": 467
        },
        "id": "WeJfeKtSUKeD",
        "outputId": "290efe02-d82d-462f-d4d3-0e6e57627f41"
      },
      "execution_count": 10,
      "outputs": [
        {
          "output_type": "execute_result",
          "data": {
            "text/plain": [
              "[<matplotlib.lines.Line2D at 0x7a748ddbde70>]"
            ]
          },
          "metadata": {},
          "execution_count": 10
        },
        {
          "output_type": "display_data",
          "data": {
            "text/plain": [
              "<Figure size 640x480 with 1 Axes>"
            ],
            "image/png": "[encoded data removed]"
          },
          "metadata": {}
        }
      ]
    }
  ]
}