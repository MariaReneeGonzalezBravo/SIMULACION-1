{
  "nbformat": 4,
  "nbformat_minor": 0,
  "metadata": {
    "colab": {
      "provenance": [],
      "authorship_tag": "ABX9TyNCtBKsTMo4DYrri0nu4KBE",
      "include_colab_link": true
    },
    "kernelspec": {
      "name": "python3",
      "display_name": "Python 3"
    },
    "language_info": {
      "name": "python"
    }
  },
  "cells": [
    {
      "cell_type": "markdown",
      "metadata": {
        "id": "view-in-github",
        "colab_type": "text"
      },
      "source": [
        "<a href=\"https://colab.research.google.com/github/MariaReneeGonzalezBravo/SIMULACION-1/blob/main/Sol_Analiticaf.ipynb\" target=\"_parent\"><img src=\"https://colab.research.google.com/assets/colab-badge.svg\" alt=\"Open In Colab\"/></a>"
      ]
    },
    {
      "cell_type": "markdown",
      "source": [
        "La interferencia ocurre cuando el diametro de la flecha $x_2$ es más grande que el espacio en el cojinte $x_1$, de lo contrario, las piezas embonan con facilidad.\n",
        "\n",
        "Por lo tanto la condición a seguir para que ocurra dicha interferencia es $x_2 > x_1$ entonces $x_2 - x_1 > 0$.\n",
        "\n",
        "Donde $x_1∼N(1.5,0.04)$, $x_2∼N(1.48,0.03)$ siguen una distribución normal, así una resta de estas tal como $x_2 - x_1$ también se sigue una distribución normal.\n",
        "\n",
        "Usando el **Teorema de suma y resta de variables Aleatorias con una Distribución Normal**, donde $X_1 ∼ N(\\mu_1,\\sigma_1)$ &\n",
        "$X_2 ∼ N(\\mu_2,\\sigma_2)$ obtenemos $X_1 - X_2 = W $ donde $W∼ N(\\mu_1 - \\mu_2,\\sigma_1^2 + \\sigma_2^2)$\n",
        "\n",
        "Así entonces\n",
        "\n",
        "\n",
        " $\\mu_i = \\mu_2 - \\mu_1 = 1.48 - 1.5 = -0.02$\n",
        "\n",
        "\n",
        " $\\sigma_i = \\sigma_1^2 + \\sigma_2^2 = 0.0016 + 0.0009 = 0.0025$\n",
        "\n",
        " Obteniendo de la desviación estandar de $\\sigma_i$\n",
        "\n",
        " $\\sqrt{\\sigma_i} = \\sqrt{0.0025} = 0.05$\n",
        "\n",
        " Así\n",
        "\n",
        "  ⇒\n",
        "$P\\left(\\frac{X - \\mu_X}{\\sigma_X} > \\frac{0 - 0.02}{0.05}\\right)$\n",
        "\n",
        "  ⇒\n",
        "$P\\left(Z > \\frac{- 0.02}{0.05}\\right)$\n",
        "\n",
        "Estandarizando a $X$ para obtener $Z$\n",
        "\n",
        "Obtenemos $Z =  \\frac{0 - (- 0.02)}{0.05} = \\frac{ 0.02}{0.05} = 0.4$\n",
        "\n",
        "Luego\n",
        "\n",
        "⇒\n",
        "$P\\left(X > 0\\right) = 1 - P\\left(Z \\leq 0.4\\right) $\n",
        "\n",
        "Buscando este valor en la tabla de distribución normal estándar, se obtiene que $P\\left(Z \\leq 0.4\\right) = 0.6554$\n",
        "\n",
        "⇒\n",
        "$P\\left(X > 0\\right) = 1 - 0.6554 = 0.3446 $\n",
        "\n",
        "Obtenemos que la **probabilidad de interferencia es $34.46%$**"
      ],
      "metadata": {
        "id": "5A89XjGOAYPp"
      }
    }
  ]
}