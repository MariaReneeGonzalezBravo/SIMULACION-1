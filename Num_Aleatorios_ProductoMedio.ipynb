{
  "nbformat": 4,
  "nbformat_minor": 0,
  "metadata": {
    "colab": {
      "provenance": [],
      "authorship_tag": "ABX9TyNNrVGex52eudhjOJ+hcaIo",
      "include_colab_link": true
    },
    "kernelspec": {
      "name": "python3",
      "display_name": "Python 3"
    },
    "language_info": {
      "name": "python"
    }
  },
  "cells": [
    {
      "cell_type": "markdown",
      "metadata": {
        "id": "view-in-github",
        "colab_type": "text"
      },
      "source": [
        "<a href=\"https://colab.research.google.com/github/MariaReneeGonzalezBravo/SIMULACION-1/blob/main/Num_Aleatorios_ProductoMedio.ipynb\" target=\"_parent\"><img src=\"https://colab.research.google.com/assets/colab-badge.svg\" alt=\"Open In Colab\"/></a>"
      ]
    },
    {
      "cell_type": "code",
      "source": [
        "from os import listxattr\n",
        "#Numeros Aleatorios- Métodos de generación\n",
        "#Producto medio\n",
        "def numpm(x1,x2): #-- Semillas\n",
        "  c=x1*x2 # producto\n",
        "  n = (len(str(c)))\n",
        "  if n % 5 == 0:\n",
        "    l=list(str(c))\n",
        "    l1=l[1:4]\n",
        "    cad=\"\".join(map(str,l1))\n",
        "    ent=int(cad)\n",
        "  else:\n",
        "    l=list(str(c))\n",
        "    l.insert(0, 0)\n",
        "    l1=l[2:5]\n",
        "    cad=\"\".join(map(str,l1))\n",
        "    ent=int(cad)\n",
        "\n",
        "  return ent\n",
        "\n",
        "x1=123\n",
        "x2=456\n",
        "\n",
        "for _ in range(50):  #para hacerla cicila 20 veces\n",
        "  x1=numpm(x1,x2)\n",
        "  print(x1)\n"
      ],
      "metadata": {
        "colab": {
          "base_uri": "https://localhost:8080/"
        },
        "id": "Sr-1h__w4FK6",
        "outputId": "3637e116-d166-444d-f624-034d3e2c8e0c"
      },
      "execution_count": 67,
      "outputs": [
        {
          "output_type": "stream",
          "name": "stdout",
          "text": [
            "608\n",
            "772\n",
            "520\n",
            "371\n",
            "691\n",
            "150\n",
            "840\n",
            "830\n",
            "784\n",
            "575\n",
            "622\n",
            "836\n",
            "812\n",
            "702\n",
            "201\n",
            "165\n",
            "524\n",
            "389\n",
            "773\n",
            "524\n",
            "389\n",
            "773\n",
            "524\n",
            "389\n",
            "773\n",
            "524\n",
            "389\n",
            "773\n",
            "524\n",
            "389\n",
            "773\n",
            "524\n",
            "389\n",
            "773\n",
            "524\n",
            "389\n",
            "773\n",
            "524\n",
            "389\n",
            "773\n",
            "524\n",
            "389\n",
            "773\n",
            "524\n",
            "389\n",
            "773\n",
            "524\n",
            "389\n",
            "773\n",
            "524\n"
          ]
        }
      ]
    },
    {
      "cell_type": "code",
      "source": [
        "numpm(123,456)"
      ],
      "metadata": {
        "colab": {
          "base_uri": "https://localhost:8080/"
        },
        "id": "Ec1nnxC84Iso",
        "outputId": "c20aa121-4023-4cd9-e06b-ffaa6e6cfb73"
      },
      "execution_count": 57,
      "outputs": [
        {
          "output_type": "execute_result",
          "data": {
            "text/plain": [
              "608"
            ]
          },
          "metadata": {},
          "execution_count": 57
        }
      ]
    }
  ]
}