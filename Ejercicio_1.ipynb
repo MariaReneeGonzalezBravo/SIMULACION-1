{
  "nbformat": 4,
  "nbformat_minor": 0,
  "metadata": {
    "colab": {
      "provenance": [],
      "authorship_tag": "ABX9TyMOXeWk94c3Bnbr7sPJ90T6",
      "include_colab_link": true
    },
    "kernelspec": {
      "name": "python3",
      "display_name": "Python 3"
    },
    "language_info": {
      "name": "python"
    }
  },
  "cells": [
    {
      "cell_type": "markdown",
      "metadata": {
        "id": "view-in-github",
        "colab_type": "text"
      },
      "source": [
        "<a href=\"https://colab.research.google.com/github/MariaReneeGonzalezBravo/SIMULACION-1/blob/main/Ejercicio_1.ipynb\" target=\"_parent\"><img src=\"https://colab.research.google.com/assets/colab-badge.svg\" alt=\"Open In Colab\"/></a>"
      ]
    },
    {
      "cell_type": "code",
      "execution_count": 1,
      "metadata": {
        "colab": {
          "base_uri": "https://localhost:8080/"
        },
        "id": "8sbDo8_BKIzD",
        "outputId": "52935c4d-8f19-4a4d-e22a-d5b072de7710"
      },
      "outputs": [
        {
          "output_type": "stream",
          "name": "stdout",
          "text": [
            "x1 = 2\n",
            "x2 = 47\n",
            "x3 = 57\n",
            "x4 = 46\n",
            "x5 = 29\n",
            "x6 = 19\n",
            "x7 = 2\n",
            "x8 = 7\n",
            "x9 = 49\n",
            "x10 = 46\n"
          ]
        }
      ],
      "source": [
        "#e)\n",
        "def num(x0,x1 , m, a, c ,iteraciones ):\n",
        "  xn=x1\n",
        "  xnn=x0\n",
        "\n",
        "  for i in range(iteraciones):\n",
        "    xa=xn\n",
        "    xn= (a*xn+c*xnn) % m #modulo\n",
        "    xnn=xa\n",
        "    print(f'x{i+1} = {xn}')\n",
        "    #print(f'x{i+1} = {x2}')\n",
        "\n",
        "\n",
        "\n",
        "num(21,43 ,64 , 21, 15 ,10 )"
      ]
    }
  ]
}