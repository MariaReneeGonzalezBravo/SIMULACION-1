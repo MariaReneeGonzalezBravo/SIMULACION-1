{
  "nbformat": 4,
  "nbformat_minor": 0,
  "metadata": {
    "colab": {
      "provenance": [],
      "authorship_tag": "ABX9TyNmGWea99ekSr5KaZwt9P/b",
      "include_colab_link": true
    },
    "kernelspec": {
      "name": "python3",
      "display_name": "Python 3"
    },
    "language_info": {
      "name": "python"
    }
  },
  "cells": [
    {
      "cell_type": "markdown",
      "metadata": {
        "id": "view-in-github",
        "colab_type": "text"
      },
      "source": [
        "<a href=\"https://colab.research.google.com/github/MariaReneeGonzalezBravo/SIMULACION-1/blob/main/Inventario.ipynb\" target=\"_parent\"><img src=\"https://colab.research.google.com/assets/colab-badge.svg\" alt=\"Open In Colab\"/></a>"
      ]
    },
    {
      "cell_type": "markdown",
      "source": [
        "#**Sistema de inventarios**\n",
        "\n",
        "*   27/07/24\n",
        "*   González Bravo María Renée\n",
        "\n",
        "\n",
        "\n",
        "La demanda mensual de un cierto producto sigue la siguiente distribución de probabilidad empírica:\n",
        "\n",
        "\n"
      ],
      "metadata": {
        "id": "hh3jjS2GTP3o"
      }
    },
    {
      "cell_type": "code",
      "source": [
        "import random as rd\n",
        "import matplotlib.pyplot as plt\n",
        "import numpy as np\n",
        "from prettytable import PrettyTable as pt"
      ],
      "metadata": {
        "id": "JaqpXn6-KXjv"
      },
      "execution_count": 318,
      "outputs": []
    },
    {
      "cell_type": "code",
      "source": [
        "# Listas de cantidades y probabilidades\n",
        "c = [35,36,37,38,39,40,41,42,43,44,45,46,47,48,49,50,51,52,53,54,55,56,57,58,59,60]\n",
        "p = [0.010,0.015,0.020,0.020,0.022,0.023,0.025,0.027,0.028,0.029,0.035,0.045,\n",
        "     0.060,0.065,0.070,0.080,0.075,0.070,0.065,0.060,0.050,0.040,0.030,0.016,0.015,0.005]\n",
        "\n",
        "# tabla\n",
        "table = pt()\n",
        "table.field_names = [\"Cantidad\", \"Probabilidad\"]\n",
        "\n",
        "\n",
        "for i in range(len(c)):\n",
        "    table.add_row([c[i], p[i]])\n",
        "\n",
        "print(\"Distribución de probabilidad empírica\")\n",
        "print(table)"
      ],
      "metadata": {
        "colab": {
          "base_uri": "https://localhost:8080/"
        },
        "id": "hbtV9o7JYpmd",
        "outputId": "eec0390d-1e69-4a43-a857-69d199bfd29d"
      },
      "execution_count": 332,
      "outputs": [
        {
          "output_type": "stream",
          "name": "stdout",
          "text": [
            "Distribución de probabilidad empírica\n",
            "+----------+--------------+\n",
            "| Cantidad | Probabilidad |\n",
            "+----------+--------------+\n",
            "|    35    |     0.01     |\n",
            "|    36    |    0.015     |\n",
            "|    37    |     0.02     |\n",
            "|    38    |     0.02     |\n",
            "|    39    |    0.022     |\n",
            "|    40    |    0.023     |\n",
            "|    41    |    0.025     |\n",
            "|    42    |    0.027     |\n",
            "|    43    |    0.028     |\n",
            "|    44    |    0.029     |\n",
            "|    45    |    0.035     |\n",
            "|    46    |    0.045     |\n",
            "|    47    |     0.06     |\n",
            "|    48    |    0.065     |\n",
            "|    49    |     0.07     |\n",
            "|    50    |     0.08     |\n",
            "|    51    |    0.075     |\n",
            "|    52    |     0.07     |\n",
            "|    53    |    0.065     |\n",
            "|    54    |     0.06     |\n",
            "|    55    |     0.05     |\n",
            "|    56    |     0.04     |\n",
            "|    57    |     0.03     |\n",
            "|    58    |    0.016     |\n",
            "|    59    |    0.015     |\n",
            "|    60    |    0.005     |\n",
            "+----------+--------------+\n"
          ]
        }
      ]
    },
    {
      "cell_type": "markdown",
      "source": [
        "El tiempo de entrega está distribuido de acuerdo a la siguiente función de probabilidad:\n"
      ],
      "metadata": {
        "id": "L6G_kYfQZc0v"
      }
    },
    {
      "cell_type": "code",
      "source": [
        "meses = [1,2,3]\n",
        "p_entrega = [0.3,0.4,0.3]\n",
        "\n",
        "table = pt()\n",
        "table.field_names = [\"Meses\", \"Probabilidad\"]\n",
        "for i in range(len(meses)):\n",
        "    table.add_row([meses[i], p_entrega[i]])\n",
        "\n",
        "print(\"Tiempo de entrega\")\n",
        "print(table)"
      ],
      "metadata": {
        "colab": {
          "base_uri": "https://localhost:8080/"
        },
        "id": "wjPuLrBYZvP4",
        "outputId": "f9a9fa8a-88f4-4d0f-d9b3-1ae2a9d27a15"
      },
      "execution_count": 333,
      "outputs": [
        {
          "output_type": "stream",
          "name": "stdout",
          "text": [
            "Tiempo de entrega\n",
            "+-------+--------------+\n",
            "| Meses | Probabilidad |\n",
            "+-------+--------------+\n",
            "|   1   |     0.3      |\n",
            "|   2   |     0.4      |\n",
            "|   3   |     0.3      |\n",
            "+-------+--------------+\n"
          ]
        }
      ]
    },
    {
      "cell_type": "markdown",
      "source": [
        "Los factores estacionales para cada uno de los meses del año son como se muestra a continuación:\n"
      ],
      "metadata": {
        "id": "kdpOg-fdauTE"
      }
    },
    {
      "cell_type": "code",
      "source": [
        "fe = [1.2, 1.0, 0.9, 0.8, 0.8, 0.7, 0.8, 0.9, 1.0, 1.2, 1.3, 1.4]\n",
        "\n",
        "table = pt()\n",
        "indices = np.arange(1, len(fe) + 1)\n",
        "table.add_column(\"Mes\", indices)\n",
        "table.add_column(\"Factores estacionales\", fe)\n",
        "\n",
        "print(\"Factores estacionales\")\n",
        "\n",
        "print(table)\n"
      ],
      "metadata": {
        "colab": {
          "base_uri": "https://localhost:8080/"
        },
        "id": "EfJM0mnScMLd",
        "outputId": "df36bc49-2054-496e-b47c-1346871b155a"
      },
      "execution_count": 334,
      "outputs": [
        {
          "output_type": "stream",
          "name": "stdout",
          "text": [
            "Factores estacionales\n",
            "+-----+-----------------------+\n",
            "| Mes | Factores estacionales |\n",
            "+-----+-----------------------+\n",
            "|  1  |          1.2          |\n",
            "|  2  |          1.0          |\n",
            "|  3  |          0.9          |\n",
            "|  4  |          0.8          |\n",
            "|  5  |          0.8          |\n",
            "|  6  |          0.7          |\n",
            "|  7  |          0.8          |\n",
            "|  8  |          0.9          |\n",
            "|  9  |          1.0          |\n",
            "|  10 |          1.2          |\n",
            "|  11 |          1.3          |\n",
            "|  12 |          1.4          |\n",
            "+-----+-----------------------+\n"
          ]
        }
      ]
    },
    {
      "cell_type": "markdown",
      "source": [
        "Donde se tiene la siguiente información relevante respecto a los costos:\n",
        "\n",
        "**Costo de ordenar** = $ \\$100$/orden\n",
        "\n",
        "**Costo de inventario** = $ \\$20$/unidad por año\n",
        "\n",
        "**Costo de faltante** = $ \\$50$/unidad"
      ],
      "metadata": {
        "id": "aCEyDnkicXec"
      }
    },
    {
      "cell_type": "markdown",
      "source": [
        "Si el inventario inicial se asume que son 150 unidades, determine la catidad optima a ordenar (q) y el nivel optimo del reorden (R)"
      ],
      "metadata": {
        "id": "fdRDA-ulc3aa"
      }
    },
    {
      "cell_type": "code",
      "source": [
        "#acumulada de la lista de probabilidad\n",
        "L_acum = []\n",
        "acum = 0\n",
        "for i in p:\n",
        "    acum += i\n",
        "    L_acum.append(acum)\n",
        "\n",
        "#Se devuelve un valor dependiendo de la lista acumulada\n",
        "def acum_i(u1=0.5):  #se define la función\n",
        "  for i in range(len(c)):\n",
        "    if u1 < L_acum[i]:\n",
        "      return c[0]\n",
        "    elif L_acum[i] <= u1 < L_acum[i+1]:\n",
        "      return c[i+1]"
      ],
      "metadata": {
        "id": "7uJ70a3ZNigJ"
      },
      "execution_count": 322,
      "outputs": []
    },
    {
      "cell_type": "code",
      "source": [
        "L_p_entrega = []\n",
        "acum = 0\n",
        "for i in p_entrega:\n",
        "    acum += i\n",
        "    L_p_entrega.append(acum)"
      ],
      "metadata": {
        "id": "RqLsooXbUYtO"
      },
      "execution_count": 323,
      "outputs": []
    },
    {
      "cell_type": "code",
      "source": [
        "#Funcion que nos devuleve un tiempo de entrega respecto a su probabilidad\n",
        "def p_i(u2 = 0.5):\n",
        "  for i in range(len(meses)):\n",
        "    if u2 < L_p_entrega[i]:\n",
        "      return meses[0]\n",
        "    elif  L_p_entrega[i] <= u2 < L_p_entrega[i + 1]:\n",
        "      return meses[i + 1]"
      ],
      "metadata": {
        "id": "fEm8gPksWQ6l"
      },
      "execution_count": 324,
      "outputs": []
    },
    {
      "cell_type": "code",
      "source": [
        "# Variables de control\n",
        "pp = False #pedido pendiente\n",
        "tpp = 0 #tiempo pedido pendiente\n",
        "t_o = 0 # total de ordenes\n",
        "ft = 0 #falta total\n",
        "t_IMP = 0 #Tiempo IMP\n",
        "\n",
        "#valores\n",
        "n = 200 # Número de unidades a ordenar\n",
        "i_0 = 150 # inventario inicial\n",
        "r = 100 #reorden"
      ],
      "metadata": {
        "id": "zH-nb29BcQhR"
      },
      "execution_count": 325,
      "outputs": []
    },
    {
      "cell_type": "markdown",
      "source": [
        "**Simulacion Inventario**"
      ],
      "metadata": {
        "id": "KFArvF4UJl2F"
      }
    },
    {
      "cell_type": "code",
      "source": [
        "#tabla\n",
        "Tabla = pt(['Mes', 'Inventario inicial', 'Número aleatorio', 'Demanda Ajustada', 'Inventario final', 'Faltante', 'Orden', 'Inventario mensual promedio'])\n",
        "\n",
        "for i in range(12):\n",
        "    aux = i_0\n",
        "    x = rd.uniform(0, 1)\n",
        "    da= int(acum_i(x) * fe[i])\n",
        "    inventario_final = i_0 - da\n",
        "\n",
        "    if inventario_final > 0:\n",
        "      imp = (aux + inventario_final) / 2 #inventario mensual promedio\n",
        "      t_IMP += imp\n",
        "    else:\n",
        "      imp = round((aux / 2) * (aux / da))\n",
        "      t_IMP += imp\n",
        "\n",
        "    if inventario_final >= 0:\n",
        "        f = 0 #valor faltante\n",
        "    else:\n",
        "        f = abs(inventario_final)\n",
        "        ft += f\n",
        "        inventario_final = 0\n",
        "\n",
        "\n",
        "\n",
        "    # Control del pedido pendiente\n",
        "    if pp:\n",
        "        tpp -= 1\n",
        "        if tpp == 0:\n",
        "            inventario_final += n\n",
        "            pp = False\n",
        "\n",
        "    # Revisión de la necesidad de reordenar\n",
        "    if inventario_final < r and not pp:\n",
        "        x1 = rd.uniform(0, 1) #nuevo aleatorio\n",
        "        tpp = p_i(x1)\n",
        "        pp = True\n",
        "        orden = 1\n",
        "        t_o += 1\n",
        "    else:\n",
        "        orden = 0\n",
        "\n",
        "\n",
        "\n",
        "    # tabla\n",
        "    lista_tabla = [i + 1, aux, x, da, inventario_final, f, orden, imp]\n",
        "    Tabla.add_row(lista_tabla)\n",
        "\n",
        "    i_0 = inventario_final\n",
        "\n",
        "#tabla final\n",
        "print(Tabla)\n",
        "print(\"Total de ordenes:\", t_o)\n",
        "print(\"Falta total:\", ft)\n",
        "print(\"Total de Imp:\", t_IMP)\n",
        "\n",
        "#calculo de cda costo y del inventario\n",
        "Ci = t_IMP*1.67 #costo de llevar inventario\n",
        "Cf = ft*50 #costo faltante\n",
        "Co = t_o*100 # costo de ordenar\n",
        "Ct = Ci + Cf + Co # costo total\n",
        "print(' Costo total de ordenes: ',Co)\n",
        "print(' Costo total de llevar inventario: ',Ci)\n",
        "print(' Costo total de faltante: ',Cf)\n",
        "print(' Costo total: ',Ct)"
      ],
      "metadata": {
        "colab": {
          "base_uri": "https://localhost:8080/"
        },
        "id": "xgaRaL_jShTw",
        "outputId": "acf6a6ad-83f9-457d-aabf-45ded345314e"
      },
      "execution_count": 326,
      "outputs": [
        {
          "output_type": "stream",
          "name": "stdout",
          "text": [
            "+-----+--------------------+---------------------+------------------+------------------+----------+-------+-----------------------------+\n",
            "| Mes | Inventario inicial |   Número aleatorio  | Demanda Ajustada | Inventario final | Faltante | Orden | Inventario mensual promedio |\n",
            "+-----+--------------------+---------------------+------------------+------------------+----------+-------+-----------------------------+\n",
            "|  1  |        150         |  0.7093482271392009 |        62        |        88        |    0     |   1   |            119.0            |\n",
            "|  2  |         88         |  0.8534213464363779 |        55        |        33        |    0     |   0   |             60.5            |\n",
            "|  3  |         33         | 0.05025823735582269 |        34        |       200        |    1     |   0   |              16             |\n",
            "|  4  |        200         |  0.6984082590472612 |        41        |       159        |    0     |   0   |            179.5            |\n",
            "|  5  |        159         | 0.25665665113236746 |        36        |       123        |    0     |   0   |            141.0            |\n",
            "|  6  |        123         | 0.13764091137858525 |        29        |        94        |    0     |   1   |            108.5            |\n",
            "|  7  |         94         |  0.9305509320734036 |        44        |        50        |    0     |   0   |             72.0            |\n",
            "|  8  |         50         | 0.21250849011997797 |        39        |       211        |    0     |   0   |             30.5            |\n",
            "|  9  |        211         | 0.05455443206820665 |        38        |       173        |    0     |   0   |            192.0            |\n",
            "|  10 |        173         | 0.21368729218759075 |        52        |       121        |    0     |   0   |            147.0            |\n",
            "|  11 |        121         | 0.21911973197064882 |        58        |        63        |    0     |   1   |             92.0            |\n",
            "|  12 |         63         | 0.24954185097744042 |        62        |       201        |    0     |   0   |             32.0            |\n",
            "+-----+--------------------+---------------------+------------------+------------------+----------+-------+-----------------------------+\n",
            "Total de ordenes: 3\n",
            "Falta total: 1\n",
            "Total de Imp: 1190.0\n",
            " Costo total de ordenes:  300\n",
            " Costo total de llevar inventario:  1987.3\n",
            " Costo total de faltante:  50\n",
            " Costo total:  2337.3\n"
          ]
        }
      ]
    },
    {
      "cell_type": "markdown",
      "source": [
        "**Simulación repetida**\n",
        "\n",
        "Para poder calcular la media del costo. Para esto definimos una función llamada \"sim\" donde sus parametros son las unidades a ordenar, el reorden que se va a generar y el número de iteraciones necesarias"
      ],
      "metadata": {
        "id": "M7Rz2KMNQH5c"
      }
    },
    {
      "cell_type": "code",
      "source": [
        "import random as rd\n",
        "\n",
        "def sim(No_de_unidades_a_ordenar, reorden, n=50):\n",
        "    L1 = []\n",
        "    L2 = []\n",
        "    L3 = []\n",
        "    L4 = []\n",
        "    SUM1 = 0\n",
        "    SUM2 = 0\n",
        "    SUM3 = 0\n",
        "    SUM4 = 0\n",
        "    t = 1\n",
        "\n",
        "    for i in range(n):\n",
        "        i_0 = No_de_unidades_a_ordenar  # Inicializar i_0 al inicio de cada iteración de i\n",
        "        t_IMP = 0\n",
        "        ft = 0\n",
        "        t_o = 0\n",
        "        pp = False\n",
        "        tpp = 0\n",
        "\n",
        "        for j in range(12):\n",
        "            aux = i_0\n",
        "            n = rd.uniform(0, 1)\n",
        "            da = int(acum_i(n) * fe[j])\n",
        "            inventario_final = i_0 - da\n",
        "\n",
        "            if inventario_final > 0:\n",
        "                imp = (aux + inventario_final) / 2\n",
        "                t_IMP += imp\n",
        "            else:\n",
        "                imp = round((aux / 2) * (aux / da))\n",
        "                t_IMP += imp\n",
        "\n",
        "            if inventario_final >= 0:\n",
        "                f = 0\n",
        "            else:\n",
        "                f = abs(inventario_final)\n",
        "                ft += f\n",
        "                inventario_final = 0\n",
        "\n",
        "            # Control del pedido pendiente\n",
        "            if pp:\n",
        "                tpp -= 1\n",
        "                if tpp == 0:\n",
        "                    inventario_final += n\n",
        "                    pp = False\n",
        "\n",
        "            # Revisión de la necesidad de reordenar\n",
        "            if inventario_final < reorden and not pp:\n",
        "                x1 = rd.uniform(0, 1)\n",
        "                tpp = p_i(x1)\n",
        "                pp = True\n",
        "                orden = 1\n",
        "                t_o += 1\n",
        "            else:\n",
        "                orden = 0\n",
        "\n",
        "            i_0 = inventario_final\n",
        "\n",
        "        Ci = t_IMP * 1.67\n",
        "        Cf = ft * 50\n",
        "        Co = t_o * 100\n",
        "        Ct = Ci + Cf + Co\n",
        "\n",
        "        SUM1 += Co\n",
        "        SUM2 += Ci\n",
        "        SUM3 += Cf\n",
        "        SUM4 += Ct\n",
        "\n",
        "        L1.append(SUM1 / t)\n",
        "        L2.append(SUM2 / t)\n",
        "        L3.append(SUM3 / t)\n",
        "        L4.append(SUM4 / t)\n",
        "        t += 1\n",
        "\n",
        "    return L1[-1], L2[-1], L3[-1], L4[-1]\n",
        "\n",
        "# Ejemplo de ejecución de la simulación\n",
        "LIS1, LIS2, LIS3, LIS4 = sim(200, 100, 5000)\n",
        "\n",
        "# Imprimir valores promedio de costos\n",
        "print(\"Costo de ordenar promedio:\", LIS1)\n",
        "print(\"Costo de llevar inventario promedio:\", LIS2)\n",
        "print(\"Costo de faltante promedio:\", LIS3)\n",
        "print(\"Costo total promedio:\", LIS4)\n"
      ],
      "metadata": {
        "colab": {
          "base_uri": "https://localhost:8080/"
        },
        "id": "HuWv1S5tTBUn",
        "outputId": "02d629df-acf9-4824-bd85-e410731fd199"
      },
      "execution_count": 327,
      "outputs": [
        {
          "output_type": "stream",
          "name": "stdout",
          "text": [
            "Costo de ordenar promedio: 569.14\n",
            "Costo de llevar inventario promedio: 656.6661398517267\n",
            "Costo de faltante promedio: 18959.95423006047\n",
            "Costo total promedio: 20185.76036991219\n"
          ]
        }
      ]
    },
    {
      "cell_type": "code",
      "source": [
        "# Ejecutar simulación\n",
        "LIS1, LIS2, LIS3, LIS4 = sim(200,100,5000)\n",
        "#imprimir valores\n",
        "print(\"Costo de ordenar promedio:\", LIS1)\n",
        "print(\"Costo de llevar inventario promedio:\", LIS2)\n",
        "print(\"Costo faltante promedio:\", LIS3)\n",
        "print(\"Costo total promedio:\", LIS4)"
      ],
      "metadata": {
        "colab": {
          "base_uri": "https://localhost:8080/"
        },
        "id": "SiMfwhiFAK6C",
        "outputId": "3bfb049e-03e1-4e94-efb7-32d57e869c39"
      },
      "execution_count": 328,
      "outputs": [
        {
          "output_type": "stream",
          "name": "stdout",
          "text": [
            "Costo de ordenar promedio: 571.32\n",
            "Costo de llevar inventario promedio: 657.2298618973614\n",
            "Costo faltante promedio: 18967.67537352541\n",
            "Costo total promedio: 20196.22523542282\n"
          ]
        }
      ]
    },
    {
      "cell_type": "markdown",
      "source": [
        "**OPTIMIZACIÓN**\n",
        "\n",
        "Hacemos uso de el método de optimización Hooke-Jeeves, donde:\n",
        "\n",
        "El método de optimización Hooke-Jeeves es un algoritmo iterativo que busca minimizar una función objetivo. Funciona explorando el vecindario de una solución actual, moviéndose en direcciones específicas (positivas y negativas) de cada parámetro. Si encuentra una mejora, ajusta la solución hacia esa dirección. Utiliza un criterio de convergencia para detenerse cuando los cambios son pequeños. Es efectivo para problemas donde no se dispone de información sobre la estructura analítica de la función objetivo y se basa en la búsqueda directa en el espacio de parámetros.\n",
        "\n",
        "\n"
      ],
      "metadata": {
        "id": "WtVH-meWTy2J"
      }
    },
    {
      "cell_type": "code",
      "source": [
        "def hj(f, x0, delta=0.5, epsilon=1e-4, max_iter=100):\n",
        "    n = len(x0)\n",
        "    x = np.array(x0)\n",
        "    xp = np.array(x0)\n",
        "    xb = np.array(x0)\n",
        "    for i in range(max_iter):\n",
        "        for j in range(n):\n",
        "            d = np.zeros(n)\n",
        "            d[j] = delta\n",
        "            if f(xb + d) < f(xb):\n",
        "                xb = xb + d\n",
        "            elif f(xb - d) < f(xb):\n",
        "                xb = xb - d\n",
        "        if np.linalg.norm(xb - xp) < epsilon:\n",
        "            break\n",
        "        xp = xb + (xb - xp)\n",
        "        if f(xp) < f(xb):\n",
        "            xb = xp\n",
        "        x = xb\n",
        "    return xb\n",
        "\n",
        "# Fcosto total para optimizar\n",
        "def ct(params):\n",
        "    n, r = params\n",
        "    _, _, _, Ct = sim(n, r,1000)\n",
        "    return Ct\n",
        "\n",
        "# Parâmetros iniciales\n",
        "x0 = [200, 100] # [n, r]\n",
        "\n",
        "# óptimo\n",
        "opt = hj(ct, x0)\n",
        "no, ro = opt # numero de unidades a ordenar valor optimo, reorden optimo\n",
        "\n",
        "print(f\"Óptimo de número de unidades a ordenar: {no}\")\n",
        "print(f\"Óptimo del reorden: {ro}\")\n",
        "\n",
        "# Calcular los costos con los valores óptimos\n",
        "co, cio, cfo, cto = sim(no, ro)\n",
        "print(f\"Costo a ordenar óptimo: {co}\")\n",
        "print(f\"Costo de llevar el inventario óptimo: {cio}\")\n",
        "print(f\"Costo faltante óptimo: {cfo}\")\n",
        "print(f\"Costo total óptimo: {cto}\")"
      ],
      "metadata": {
        "colab": {
          "base_uri": "https://localhost:8080/"
        },
        "id": "HF6b_Q_nIdht",
        "outputId": "f986a36a-57bf-473a-ee3c-743dddf61500"
      },
      "execution_count": 329,
      "outputs": [
        {
          "output_type": "stream",
          "name": "stdout",
          "text": [
            "Óptimo de número de unidades a ordenar: 215.0\n",
            "Óptimo del reorden: 104.0\n",
            "Costo a ordenar óptimo: 552.0\n",
            "Costo de llevar el inventario óptimo: 754.1081669709197\n",
            "Costo faltante óptimo: 18393.287613116307\n",
            "Costo total óptimo: 19699.39578008722\n"
          ]
        }
      ]
    }
  ]
}